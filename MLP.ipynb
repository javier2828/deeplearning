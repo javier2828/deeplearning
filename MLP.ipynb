{
 "cells": [
  {
   "cell_type": "markdown",
   "metadata": {
    "id": "ix5dQS2rUMlu"
   },
   "source": [
    "#EECS 442/504 PS4: Backpropagation\n",
    "\n",
    "__Please provide the following information__\n",
    "(e.g. Andrew Owens, ahowens):\n",
    "\n",
    "[Javier] [Salazar Cavazos], [61070296]\n",
    "\n",
    "__Important__: after you download the .ipynb file, please name it as __\"PS\\<this_ps_number\\>_\\<your_uniqname\\>.ipynb\"__ before you submit it to canvas. Example: adam_01101100.ipynb.\n",
    "\n",
    "\n"
   ]
  },
  {
   "cell_type": "markdown",
   "metadata": {
    "id": "W_Cst4k4tuBc"
   },
   "source": [
    "# Starting\n",
    "\n",
    "Run the following code to import the modules you'll need. After your finish the assignment, remember to run all cells and save the note book to your local machine as a .ipynb file for Canvas submission."
   ]
  },
  {
   "cell_type": "code",
   "execution_count": 1,
   "metadata": {
    "id": "SHumIO-xt57H"
   },
   "outputs": [
    {
     "name": "stderr",
     "output_type": "stream",
     "text": [
      "0.0%"
     ]
    },
    {
     "name": "stdout",
     "output_type": "stream",
     "text": [
      "Downloading https://www.cs.toronto.edu/~kriz/cifar-10-python.tar.gz to ./cifar-10-python.tar.gz\n"
     ]
    },
    {
     "name": "stderr",
     "output_type": "stream",
     "text": [
      "57.6%IOPub message rate exceeded.\n",
      "The Jupyter server will temporarily stop sending output\n",
      "to the client in order to avoid crashing it.\n",
      "To change this limit, set the config variable\n",
      "`--ServerApp.iopub_msg_rate_limit`.\n",
      "\n",
      "Current values:\n",
      "ServerApp.iopub_msg_rate_limit=1000.0 (msgs/sec)\n",
      "ServerApp.rate_limit_window=3.0 (secs)\n",
      "\n",
      "100.0%\n"
     ]
    },
    {
     "name": "stdout",
     "output_type": "stream",
     "text": [
      "Extracting ./cifar-10-python.tar.gz to .\n"
     ]
    }
   ],
   "source": [
    "import pickle\n",
    "import numpy as np\n",
    "import matplotlib.pyplot as plt\n",
    "import os\n",
    "import math\n",
    "from torchvision.datasets import CIFAR10\n",
    "download = not os.path.isdir('cifar-10-batches-py')\n",
    "dset_train = CIFAR10(root='.', download=download)\n"
   ]
  },
  {
   "cell_type": "code",
   "execution_count": 2,
   "metadata": {
    "id": "87aUvJJ52FeY"
   },
   "outputs": [],
   "source": [
    "import torch"
   ]
  },
  {
   "cell_type": "markdown",
   "metadata": {
    "id": "4WpKb7SvKR6W"
   },
   "source": [
    "# Problem 4.1 Understanding Backpropagation"
   ]
  },
  {
   "cell_type": "markdown",
   "metadata": {
    "id": "Fy-7c_kJKUCd"
   },
   "source": [
    "# 4.1 (b)  \n",
    "Implement the code for forward and backward pass of computation graph in (a)"
   ]
  },
  {
   "cell_type": "code",
   "execution_count": 11,
   "metadata": {
    "id": "yojDcdIzXcNB"
   },
   "outputs": [],
   "source": [
    "def f_1(x0, x1, x2, w0, w1, w2, w3):\n",
    "    \"\"\"\n",
    "    Computes the forward and backward pass through the computational graph \n",
    "    of (a)\n",
    "\n",
    "    Inputs:\n",
    "    - x0, x1, x2, w0, w1, w2, w3: Python floats\n",
    "\n",
    "    Returns a tuple of:\n",
    "    - L: The output of the graph\n",
    "    - grads: A tuple (grad_x0, grad_x1, grad_x2, grad_w0, grad_w1, grad_w2, \n",
    "      grad_w3)\n",
    "    giving the derivative of the output L with respect to each input.\n",
    "    \"\"\"\n",
    "    ###########################################################################\n",
    "    # TODO: Implement the forward pass for the computational graph for (a) and#\n",
    "    # store the output of this graph as L                                     #\n",
    "    ###########################################################################\n",
    "    p0 = x0*w0\n",
    "    p1 = x1*w1\n",
    "    p22 = (x2)**-1\n",
    "    p2 = p22*w2\n",
    "    p01 = p0+p1\n",
    "    p012 = p01-p2\n",
    "    p0123 = w3+p012\n",
    "    pe = -1*p0123\n",
    "    pe2 = np.exp(pe)\n",
    "    pl = pe2+1\n",
    "    L = (pl)**-1\n",
    "    \n",
    "    ###########################################################################\n",
    "    #                              END OF YOUR CODE                           #\n",
    "    ###########################################################################\n",
    "    \n",
    "    ###########################################################################\n",
    "    # TODO: Implement the backward pass for the computational graph for (a)   #\n",
    "    # Store the gradients for each input                                      #\n",
    "    ###########################################################################\n",
    "    grad_L = 1\n",
    "    grad_pl = grad_L * -1/(pl)**2\n",
    "    grad_pe2 = grad_pl * 1\n",
    "    grad_pe = grad_pe2 * np.exp(pe)\n",
    "    grad_p0123 = grad_pe * -1\n",
    "    grad_w3 = grad_p0123 * 1\n",
    "    grad_p012 = grad_p0123 * 1\n",
    "    grad_p2 = grad_p012 *-1\n",
    "    grad_w2 = grad_p2 * p22\n",
    "    grad_p22 = grad_p2 * w2\n",
    "    grad_x2 = grad_p22 * -1/(x2)**2\n",
    "    grad_p01 = grad_p012 * 1\n",
    "    grad_p1 = grad_p01 * 1\n",
    "    grad_w1 = grad_p1 * x1\n",
    "    grad_x1 = grad_p1 * w1\n",
    "    grad_p0 = grad_p01 * 1\n",
    "    grad_w0 = grad_p0 * x0\n",
    "    grad_x0 = grad_p0 * w0\n",
    "\n",
    "\n",
    "    ###########################################################################\n",
    "    #                              END OF YOUR CODE                           #\n",
    "    ###########################################################################\n",
    "\n",
    "    grads = (grad_x0, grad_x1, grad_x2, grad_w0, grad_w1, grad_w2, grad_w3)\n",
    "    return L, grads"
   ]
  },
  {
   "cell_type": "markdown",
   "metadata": {
    "id": "CdquTNqGKYcc"
   },
   "source": [
    "# 4.1 (c)  \n",
    "Implement the code for forward and backward pass of computation graph in (c)\n"
   ]
  },
  {
   "cell_type": "code",
   "execution_count": 17,
   "metadata": {
    "id": "o55wTks0KaPC"
   },
   "outputs": [],
   "source": [
    "def f_2(w, x, y, z):\n",
    "    \"\"\"\n",
    "    Computes the forward and backward pass through the computational graph \n",
    "    of (c)\n",
    "\n",
    "    Inputs:\n",
    "    - w, x, y, z: Python floats\n",
    "\n",
    "    Returns a tuple of:\n",
    "    - L: The output of the graph\n",
    "    - grads: A tuple (grad_w, grad_x, grad_y, grad_z)\n",
    "    giving the derivative of the output L with respect to each input.\n",
    "    \"\"\"\n",
    "    ###########################################################################\n",
    "    # TODO: Implement the forward pass for the computational graph for (c) and#\n",
    "    # store the output of this graph as L                                     #\n",
    "    ###########################################################################\n",
    "    a = w**-1\n",
    "    b = x**-1\n",
    "    e = a**b\n",
    "    c = np.exp(y)\n",
    "    d = np.exp(z)\n",
    "    c1 = c\n",
    "    c2 = c\n",
    "    d1 = d\n",
    "    d2 = d\n",
    "    p = d1 * c1\n",
    "    p1 = p\n",
    "    p2 = p\n",
    "    f = p1 + c2\n",
    "    g = d2/p2\n",
    "    m = e-f\n",
    "    n = m/g\n",
    "    L = n**2\n",
    "    \n",
    "    ###########################################################################\n",
    "    #                              END OF YOUR CODE                           #\n",
    "    ###########################################################################\n",
    "\n",
    "    ###########################################################################\n",
    "    # TODO: Implement the backward pass for the computational graph for (c)   #\n",
    "    # Store the gradients for each input                                      #\n",
    "    ###########################################################################\n",
    "    grad_L = 1\n",
    "    grad_n = grad_L * 2*n\n",
    "    grad_g = grad_n * -m/(g**2)\n",
    "    grad_m = grad_n * 1/g\n",
    "    grad_e = grad_m * 1\n",
    "    grad_b = grad_e * (a**b)*np.log(a)\n",
    "    grad_x = grad_b * -1\n",
    "    grad_a = grad_e * a**(b-1) *b\n",
    "    grad_w = grad_a * -1/(w**2)\n",
    "    grad_f = grad_m * -1\n",
    "    grad_c2 = grad_f * 1\n",
    "    grad_p1 = grad_f * 1\n",
    "    grad_p2 = grad_g * -d2/(p2**2)\n",
    "    grad_d2 = grad_g * 1/p2\n",
    "    grad_p = grad_p1 + grad_p2\n",
    "    grad_d1 = grad_p * c1\n",
    "    grad_c1 = grad_p * d1\n",
    "    grad_d = grad_d1 + grad_d2\n",
    "    grad_c = grad_c1 + grad_c2\n",
    "    grad_z = grad_d * np.exp(z)\n",
    "    grad_y = grad_c * np.exp(y)\n",
    "    \n",
    "\n",
    "   \n",
    "    ###########################################################################\n",
    "    #                              END OF YOUR CODE                           #\n",
    "    ###########################################################################\n",
    "\n",
    "    grads = (grad_w, grad_x, grad_y, grad_z)\n",
    "    return L, grads"
   ]
  },
  {
   "cell_type": "markdown",
   "metadata": {
    "id": "apEPzDNtK0MC"
   },
   "source": [
    "# Problem 4.2 Softmax Classifier with Two Layer Neural Network\n",
    "In this problem you will develop a two Layer neural network with fully-connected layers to perform classification, and test it out on the CIFAR-10 dataset.\n",
    "\n",
    "We train the network with a softmax loss function on the weight matrices. The network uses a ReLU nonlinearity after the first fully connected layer. In other words, the network has the following architecture:\n",
    "\n",
    "input - fully connected layer - ReLU - fully connected layer - softmax\n",
    "\n",
    "The outputs of the second fully-connected layer are the scores for each class.\n",
    "\n",
    "You cannot use any deep learning libraries such as PyTorch in this part."
   ]
  },
  {
   "cell_type": "markdown",
   "metadata": {
    "id": "SXfumCQ21JoK"
   },
   "source": [
    "# 4.2 (a) Layers\n",
    "In this problem, implement fully connected layer, relu and softmax. Filling in all TODOs in skeleton codes will be sufficient."
   ]
  },
  {
   "cell_type": "code",
   "execution_count": 190,
   "metadata": {
    "id": "Q-ljfgMv9PHx"
   },
   "outputs": [],
   "source": [
    "def fc_forward(X, W, b):\n",
    "    \"\"\"\n",
    "    Computes the forward pass for a fully-connected layer.\n",
    "    \n",
    "    The input X has shape (N, Din) and contains a minibatch of N\n",
    "    examples, where each example x[i] has shape (Din,).\n",
    "    \n",
    "    Inputs:\n",
    "    - X: A numpy array containing input data, of shape (N, Din)\n",
    "    - W: A numpy array of weights, of shape (Din, Dout)\n",
    "    - b: A numpy array of biases, of shape (Dout,)\n",
    "    \n",
    "    Returns a tuple of:\n",
    "    - out: output, of shape (N, Dout)\n",
    "    - cache: (X, W, b)\n",
    "    \"\"\"\n",
    "    ###########################################################################\n",
    "    # TODO: Implement the forward pass. Store the result in out.              #\n",
    "    ###########################################################################\n",
    "    out = (X @ W) + b[None,:]\n",
    "\n",
    "    ###########################################################################\n",
    "    #                             END OF YOUR CODE                            #\n",
    "    ###########################################################################\n",
    "    cache = (X, W, b)\n",
    "    return out, cache\n",
    "\n",
    "\n",
    "def fc_backward(dout, cache):\n",
    "    \"\"\"\n",
    "    Computes the backward pass for a fully_connected layer.\n",
    "    \n",
    "    Inputs:\n",
    "    - dout: Upstream derivative, of shape (N, Dout)\n",
    "    - cache: returned by your forward function. Tuple of:\n",
    "      - X: Input data, of shape (N, Din)\n",
    "      - W: Weights, of shape (Din, Dout)\n",
    "      - b: Biases, of shape (Dout,)\n",
    "      \n",
    "    Returns a tuple of:\n",
    "    - dX: Gradient with respect to X, of shape (N, Din)\n",
    "    - dW: Gradient with respect to W, of shape (Din, Dout)\n",
    "    - db: Gradient with respect to b, of shape (Dout,)\n",
    "    \"\"\"\n",
    "    X, W, b = cache\n",
    "    dX, dW, db = None, None, None\n",
    "    ###########################################################################\n",
    "    # TODO: Implement the affine backward pass.                               #\n",
    "    ###########################################################################\n",
    "    dX = dout @ W.T\n",
    "    dW = X.T @ dout\n",
    "    db = dout.T @ np.ones(X.shape[0])\n",
    "\n",
    "\n",
    "\n",
    "    ###########################################################################\n",
    "    #                             END OF YOUR CODE                            #\n",
    "    ###########################################################################\n",
    "    return dX, dW, db\n",
    "\n",
    "def relu_forward(x):\n",
    "    \"\"\"\n",
    "    Computes the forward pass for a layer of rectified linear units (ReLUs).\n",
    "\n",
    "    Input:\n",
    "    - x: Inputs, of any shape\n",
    "\n",
    "    Returns a tuple of:\n",
    "    - out: Output, of the same shape as x\n",
    "    - cache: x\n",
    "    \"\"\"\n",
    "    out = x.copy()\n",
    "    ###########################################################################\n",
    "    # TODO: Implement the ReLU forward pass.                                  #\n",
    "    ###########################################################################\n",
    "    out = np.maximum(0,x)\n",
    "    ###########################################################################\n",
    "    #                             END OF YOUR CODE                            #\n",
    "    ###########################################################################\n",
    "    cache = x\n",
    "\n",
    "    return out, cache\n",
    "\n",
    "\n",
    "def relu_backward(dout, cache):\n",
    "    \"\"\"\n",
    "    Computes the backward pass for a layer of rectified linear units (ReLUs).\n",
    "\n",
    "    Input:\n",
    "    - dout: Upstream derivatives, of any shape\n",
    "    - cache: returned by your forward function. Input x, of same shape as dout\n",
    "\n",
    "    Returns:\n",
    "    - dx: Gradient with respect to x\n",
    "    \"\"\"\n",
    "    dx, x = dout.copy(), cache\n",
    "    ###########################################################################\n",
    "    # TODO: Implement the ReLU backward pass.                                 #\n",
    "    ###########################################################################\n",
    "    dx[x <= 0] = 0\n",
    "    ###########################################################################\n",
    "    #                             END OF YOUR CODE                            #\n",
    "    ###########################################################################\n",
    "    return dx\n",
    "\n",
    "\n",
    "def softmax_loss(X, y):\n",
    "    \"\"\"\n",
    "    Computes the loss and gradient for softmax classification.\n",
    "\n",
    "    Inputs:\n",
    "    - X: Input data, of shape (N, C) where x[i, j] is the score for the jth\n",
    "      class for the ith input.\n",
    "    - y: Vector of labels, of shape (N,) where y[i] is the label for X[i] and\n",
    "      0 <= y[i] < C\n",
    "\n",
    "    Returns a tuple of:\n",
    "    - loss: Scalar giving the loss\n",
    "    - dX: Gradient of the loss with respect to x\n",
    "    \"\"\"\n",
    "    loss, dX = None, None\n",
    "\n",
    "    dX = np.exp(X - np.max(X, axis=1, keepdims=True))\n",
    "    dX /= np.sum(dX, axis=1, keepdims=True)\n",
    "    loss = -np.sum(np.log(dX[np.arange(X.shape[0]), y])) / X.shape[0]\n",
    "    dX[np.arange(X.shape[0]), y] -= 1\n",
    "    dX /= X.shape[0]\n",
    "    \n",
    "    return loss, dX"
   ]
  },
  {
   "cell_type": "markdown",
   "metadata": {
    "id": "LbFxtS3zK8oz"
   },
   "source": [
    "# 4.2 (b) Two Layer Softmax Classifier\n",
    "\n",
    "In this problem, implement two layer softmax classifier."
   ]
  },
  {
   "cell_type": "code",
   "execution_count": 191,
   "metadata": {
    "id": "ytvxbx9UpxVL"
   },
   "outputs": [],
   "source": [
    "class SoftmaxClassifier(object):\n",
    "    \"\"\"\n",
    "    A fully-connected neural network with\n",
    "    softmax loss that uses a modular layer design. We assume an input dimension\n",
    "    of D, a hidden dimension of H, and perform classification over C classes.\n",
    "\n",
    "    The architecture should be fc - relu - fc - softmax with one hidden layer\n",
    "\n",
    "    The learnable parameters of the model are stored in the dictionary\n",
    "    self.params that maps parameter names to numpy arrays.\n",
    "    \"\"\"\n",
    "\n",
    "    def __init__(self, input_dim=3072, hidden_dim=300, num_classes=10,\n",
    "                 weight_scale=1e-3, reg=0.0):\n",
    "        \"\"\"\n",
    "        Initialize a new network.\n",
    "\n",
    "        Inputs:f\n",
    "        - input_dim: An integer giving the size of the input\n",
    "        - hidden_dim: An integer giving the size of the hidden layer, None\n",
    "          if there's no hidden layer.\n",
    "        - num_classes: An integer giving the number of classes to classify\n",
    "        - weight_scale: Scalar giving the standard deviation for random\n",
    "          initialization of the weights.\n",
    "        \"\"\"\n",
    "        self.params = {}\n",
    "        self.reg = reg\n",
    "        ############################################################################\n",
    "        # TODO: Initialize the weights and biases of the two-layer net. Weights    #\n",
    "        # should be initialized from a Gaussian centered at 0.0 with               #\n",
    "        # standard deviation equal to weight_scale, and biases should be           #\n",
    "        # initialized to zero. All weights and biases should be stored in the      #\n",
    "        # dictionary self.params, with fc weights and biases using the keys        #\n",
    "        # 'W' and 'b', i.e., W1, b1 for the weights and bias in the first linear   #\n",
    "        # layer, W2, b2 for the weights and bias in the second linear layer.       #\n",
    "        ############################################################################\n",
    "        W1 = np.random.normal(0.0, weight_scale, size=(input_dim,hidden_dim))\n",
    "        W2 = np.random.normal(0.0, weight_scale, size=(hidden_dim,num_classes))\n",
    "        b1 = np.zeros(hidden_dim)\n",
    "        b2 = np.zeros(num_classes)\n",
    "        self.params = {\"W1\": W1, \"W2\": W2, \"b1\": b1, \"b2\": b2}\n",
    "\n",
    "\n",
    "\n",
    "        ############################################################################\n",
    "        #                             END OF YOUR CODE                             #\n",
    "        ############################################################################\n",
    "\n",
    "\n",
    "    def forwards_backwards(self, X, y=None):\n",
    "        \"\"\"\n",
    "        Compute loss and gradient for a minibatch of data.\n",
    "\n",
    "        Inputs:\n",
    "        - X: Array of input data of shape (N, Din)\n",
    "        - y: Array of labels, of shape (N,). y[i] gives the label for X[i].\n",
    "\n",
    "        Returns:\n",
    "        If y is None, then run a test-time forward pass of the model and return:\n",
    "        - scores: Array of shape (N, C) giving classification scores, where\n",
    "          scores[i, c] is the classification score for X[i] and class c.\n",
    "\n",
    "        If y is not None, then run a training-time forward and backward pass. And\n",
    "        return a tuple of:\n",
    "        - loss: Scalar value giving the loss\n",
    "        - grads: Dictionary with the same keys as self.params, mapping parameter\n",
    "          names to gradients of the loss with respect to those parameters.\n",
    "        \"\"\"\n",
    "        scores = None\n",
    "        ############################################################################\n",
    "        # TODO: Implement the forward pass for the two-layer net, computing the    #\n",
    "        # class scores for X and storing them in the scores variable.              #\n",
    "        ############################################################################\n",
    "        Z1,cache1 = fc_forward(X,self.params['W1'],self.params['b1'])\n",
    "        A1,cache2 = relu_forward(Z1)\n",
    "        scores,cache3 = fc_forward(A1,self.params['W2'],self.params['b2']) \n",
    "\n",
    "\n",
    "        ############################################################################\n",
    "        #                             END OF YOUR CODE                             #\n",
    "        ############################################################################\n",
    "\n",
    "        # If y is None then we are in test mode so just return scores\n",
    "        if y is None:\n",
    "            return scores\n",
    "\n",
    "        loss, grads = 0, {}\n",
    "        ############################################################################\n",
    "        # TODO: Implement the backward pass for the two-layer net. Store the loss  #\n",
    "        # in the loss variable and gradients in the grads dictionary. Compute data #\n",
    "        # loss using softmax, and make sure that grads[k] holds the gradients for  #\n",
    "        # self.params[k].                                                          # \n",
    "        ############################################################################\n",
    "        loss, grad_L = softmax_loss(scores,y)    \n",
    "        grad_X2,grad_W2,grad_b2 = fc_backward(grad_L, cache3)\n",
    "        grad_Z1 = relu_backward(grad_X2,cache2)\n",
    "        grad_X1,grad_W1,grad_b1 = fc_backward(grad_Z1,cache1)\n",
    "        grads = {\"W1\": grad_W1, \"W2\": grad_W2, \"b1\": grad_b1, \"b2\": grad_b2}\n",
    "        \n",
    "\n",
    "        ############################################################################\n",
    "        #                             END OF YOUR CODE                             #\n",
    "        ############################################################################\n",
    "        ############################################################################\n",
    "        # TODO: 4.2(g)(EECS 504 only) Add L2 regularization                        # \n",
    "        ############################################################################\n",
    "        grads['W1'] = grads['W1'] + 2*self.reg*grads['W1']\n",
    "        grads['W2'] = grads['W2'] + 2*self.reg*grads['W2']\n",
    "\n",
    "        ############################################################################\n",
    "        #                             END OF YOUR CODE                             #\n",
    "        ############################################################################\n",
    "        return loss, grads\n",
    "\n",
    "  \n"
   ]
  },
  {
   "cell_type": "markdown",
   "metadata": {
    "id": "lwp0waIL1h_e"
   },
   "source": [
    "# 4.2(c) Training\n",
    "\n",
    "In this problem, you need to preprocess the images and set up model hyperparameters. Notice that adjust the training and val split is optional."
   ]
  },
  {
   "cell_type": "code",
   "execution_count": 196,
   "metadata": {
    "id": "kZPtQzXGMoCg"
   },
   "outputs": [
    {
     "name": "stdout",
     "output_type": "stream",
     "text": [
      "(Iteration 1 / 25000) loss: 2.322218\n",
      "(Epoch 0 / 10) train acc: 0.124000; val_acc: 0.113400\n",
      "(Iteration 1001 / 25000) loss: 2.131884\n",
      "(Iteration 2001 / 25000) loss: 1.860382\n",
      "(Epoch 1 / 10) train acc: 0.372000; val_acc: 0.336100\n",
      "(Iteration 3001 / 25000) loss: 1.790017\n",
      "(Iteration 4001 / 25000) loss: 1.775864\n",
      "(Epoch 2 / 10) train acc: 0.391000; val_acc: 0.371800\n",
      "(Iteration 5001 / 25000) loss: 1.801321\n",
      "(Iteration 6001 / 25000) loss: 1.675315\n",
      "(Iteration 7001 / 25000) loss: 1.636754\n",
      "(Epoch 3 / 10) train acc: 0.419000; val_acc: 0.398000\n",
      "(Iteration 8001 / 25000) loss: 1.437445\n",
      "(Iteration 9001 / 25000) loss: 1.645791\n",
      "(Epoch 4 / 10) train acc: 0.404000; val_acc: 0.416600\n",
      "(Iteration 10001 / 25000) loss: 1.690557\n",
      "(Iteration 11001 / 25000) loss: 1.100124\n",
      "(Iteration 12001 / 25000) loss: 1.397812\n",
      "(Epoch 5 / 10) train acc: 0.452000; val_acc: 0.429500\n",
      "(Iteration 13001 / 25000) loss: 1.500188\n",
      "(Iteration 14001 / 25000) loss: 1.475837\n",
      "(Epoch 6 / 10) train acc: 0.445000; val_acc: 0.431800\n",
      "(Iteration 15001 / 25000) loss: 1.881941\n",
      "(Iteration 16001 / 25000) loss: 1.298211\n",
      "(Iteration 17001 / 25000) loss: 1.642308\n",
      "(Epoch 7 / 10) train acc: 0.489000; val_acc: 0.435400\n",
      "(Iteration 18001 / 25000) loss: 1.270702\n",
      "(Iteration 19001 / 25000) loss: 1.777610\n",
      "(Epoch 8 / 10) train acc: 0.483000; val_acc: 0.443700\n",
      "(Iteration 20001 / 25000) loss: 1.499686\n",
      "(Iteration 21001 / 25000) loss: 1.498076\n",
      "(Iteration 22001 / 25000) loss: 1.181388\n",
      "(Epoch 9 / 10) train acc: 0.485000; val_acc: 0.451900\n",
      "(Iteration 23001 / 25000) loss: 1.467594\n",
      "(Iteration 24001 / 25000) loss: 1.185922\n",
      "(Epoch 10 / 10) train acc: 0.472000; val_acc: 0.450500\n"
     ]
    }
   ],
   "source": [
    "def unpickle(file):\n",
    "    with open(file, 'rb') as fo:\n",
    "        dict = pickle.load(fo, encoding=\"latin1\")\n",
    "    return dict\n",
    "\n",
    "def load_cifar10():\n",
    "    data = {}\n",
    "    meta = unpickle(\"cifar-10-batches-py/batches.meta\")\n",
    "    batch1 = unpickle(\"cifar-10-batches-py/data_batch_1\")\n",
    "    batch2 = unpickle(\"cifar-10-batches-py/data_batch_2\")\n",
    "    batch3 = unpickle(\"cifar-10-batches-py/data_batch_3\")\n",
    "    batch4 = unpickle(\"cifar-10-batches-py/data_batch_4\")\n",
    "    batch5 = unpickle(\"cifar-10-batches-py/data_batch_5\")\n",
    "    test_batch = unpickle(\"cifar-10-batches-py/test_batch\")\n",
    "    X_train = np.vstack((batch1['data'], batch2['data'], batch3['data'],\\\n",
    "                         batch4['data'], batch5['data']))\n",
    "    Y_train = np.array(batch1['labels'] + batch2['labels'] + batch3['labels'] + \n",
    "                       batch4['labels'] + batch5['labels'])\n",
    "    X_test = test_batch['data']\n",
    "    Y_test = test_batch['labels']\n",
    "    \n",
    "    #Preprocess images here                                     \n",
    "    X_train = (X_train-np.mean(X_train,axis=1,keepdims=True))/np.std(X_train,axis=1,keepdims=True)\n",
    "    X_test = (X_test-np.mean(X_test,axis=1,keepdims=True))/np.std(X_test,axis=1,keepdims=True)\n",
    "\n",
    "    data['X_train'] = X_train[:40000]\n",
    "    data['y_train'] = Y_train[:40000]\n",
    "    data['X_val'] = X_train[40000:]\n",
    "    data['y_val'] = Y_train[40000:]\n",
    "    data['X_test'] = X_test\n",
    "    data['y_test'] = Y_test\n",
    "    return data\n",
    "\n",
    "def testNetwork(model, X, y, num_samples=None, batch_size=100):\n",
    "    \"\"\"\n",
    "    Check accuracy of the model on the provided data.\n",
    "\n",
    "    Inputs:\n",
    "    - model: Image classifier\n",
    "    - X: Array of data, of shape (N, d_1, ..., d_k)\n",
    "    - y: Array of labels, of shape (N,)\n",
    "    - num_samples: If not None, subsample the data and only test the model\n",
    "      on num_samples datapoints.\n",
    "    - batch_size: Split X and y into batches of this size to avoid using\n",
    "      too much memory.\n",
    "\n",
    "    Returns:\n",
    "    - acc: Scalar giving the fraction of instances that were correctly\n",
    "      classified by the model.\n",
    "    \"\"\"\n",
    "\n",
    "    # Subsample the data\n",
    "    N = X.shape[0]\n",
    "    if num_samples is not None and N > num_samples:\n",
    "        mask = np.random.choice(N, num_samples)\n",
    "        N = num_samples\n",
    "        X = X[mask]\n",
    "        y = y[mask]\n",
    "\n",
    "    # Compute predictions in batches\n",
    "    num_batches = N // batch_size\n",
    "    if N % batch_size != 0:\n",
    "        num_batches += 1\n",
    "    y_pred = []\n",
    "    for i in range(num_batches):\n",
    "        start = i * batch_size\n",
    "        end = (i + 1) * batch_size\n",
    "        scores = model.forwards_backwards(X[start:end])\n",
    "        y_pred.append(np.argmax(scores, axis=1))\n",
    "    y_pred = np.hstack(y_pred)\n",
    "    acc = np.mean(y_pred == y)\n",
    "\n",
    "    return acc\n",
    "\n",
    "def SGD(W,dW, learning_rate=1e-3):\n",
    "    \"\"\" Apply a gradient descent step on weight W \n",
    "    Inputs:\n",
    "        W : Weight matrix\n",
    "        dW : gradient of weight, same shape as W\n",
    "        learning_rate : Learning rate. Defaults to 1e-3.\n",
    "    Returns:\n",
    "        new_W: Updated weight matrix\n",
    "    \"\"\"\n",
    "\n",
    "    # Apply a gradient descent step on weight W using the gradient dW and the specified learning rate.\n",
    "    new_W = W - learning_rate * dW\n",
    "\n",
    "    return new_W\n",
    "\n",
    "def trainNetwork(model, data, **kwargs):\n",
    "    \"\"\"\n",
    "     Required arguments:\n",
    "    - model: Image classifier\n",
    "    - data: A dictionary of training and validation data containing:\n",
    "      'X_train': Array, shape (N_train, d_1, ..., d_k) of training images\n",
    "      'X_val': Array, shape (N_val, d_1, ..., d_k) of validation images\n",
    "      'y_train': Array, shape (N_train,) of labels for training images\n",
    "      'y_val': Array, shape (N_val,) of labels for validation images\n",
    "\n",
    "    Optional arguments:\n",
    "    - learning_rate: A scalar for initial learning rate.\n",
    "    - lr_decay: A scalar for learning rate decay; after each epoch the\n",
    "      learning rate is multiplied by this value.\n",
    "    - batch_size: Size of minibatches used to compute loss and gradient\n",
    "      during training.\n",
    "    - num_epochs: The number of epochs to run for during training.\n",
    "    - print_every: Integer; training losses will be printed every\n",
    "      print_every iterations.\n",
    "    - verbose: Boolean; if set to false then no output will be printed\n",
    "      during training.\n",
    "    - num_train_samples: Number of training samples used to check training\n",
    "      accuracy; default is 1000; set to None to use entire training set.\n",
    "    - num_val_samples: Number of validation samples to use to check val\n",
    "      accuracy; default is None, which uses the entire validation set.\n",
    "    - optimizer: Choice of using either 'SGD' or 'SGD_Momentum' for updating weights; default is SGD.\n",
    "    \"\"\"\n",
    "    \n",
    "    \n",
    "    learning_rate =  kwargs.pop('learning_rate', 1e-3)\n",
    "    lr_decay = kwargs.pop('lr_decay', 1.0)\n",
    "    batch_size = kwargs.pop('batch_size', 100)\n",
    "    num_epochs = kwargs.pop('num_epochs', 10)\n",
    "    num_train_samples = kwargs.pop('num_train_samples', 1000)\n",
    "    num_val_samples = kwargs.pop('num_val_samples', None)\n",
    "    print_every = kwargs.pop('print_every', 10)   \n",
    "    verbose = kwargs.pop('verbose', True)\n",
    "    optimizer = kwargs.pop('optimizer', 'SGD')\n",
    "    \n",
    "    epoch = 0\n",
    "    best_val_acc = 0\n",
    "    best_params = {}\n",
    "    loss_history = []\n",
    "    train_acc_history = []\n",
    "    val_acc_history = []\n",
    "    \n",
    "    \n",
    "    num_train = data['X_train'].shape[0]\n",
    "    iterations_per_epoch = max(num_train // batch_size, 1)\n",
    "    num_iterations = num_epochs * iterations_per_epoch\n",
    "    \n",
    "    #Initialize velocity dictionary if optimizer is SGD_Momentum\n",
    "    if optimizer == 'SGD_Momentum':\n",
    "        velocity_dict = {p:np.zeros(w.shape) for p,w in model.params.items()}\n",
    "      \n",
    "    for t in range(num_iterations): \n",
    "        # Make a minibatch of training data\n",
    "        batch_mask = np.random.choice(num_train, batch_size)\n",
    "        X_batch = data['X_train'][batch_mask]\n",
    "        y_batch = data['y_train'][batch_mask]\n",
    "        \n",
    "        # Compute loss and gradient\n",
    "        loss, grads = model.forwards_backwards(X_batch, y_batch)\n",
    "        loss_history.append(loss)\n",
    "\n",
    "        # Perform a parameter update\n",
    "        if optimizer == 'SGD':\n",
    "            for p, w in model.params.items():\n",
    "                model.params[p] = SGD(w,grads[p], learning_rate=learning_rate)\n",
    "\n",
    "        elif optimizer == 'SGD_Momentum':\n",
    "            for p, w in model.params.items():\n",
    "                model.params[p], velocity_dict[p] = SGD_Momentum(w, grads[p], velocity_dict[p], beta=0.5, learning_rate=learning_rate)\n",
    "        else:\n",
    "            raise NotImplementedError\n",
    "        # Print training loss\n",
    "        if verbose and t % print_every == 0:\n",
    "            print('(Iteration %d / %d) loss: %f' % (\n",
    "                   t + 1, num_iterations, loss_history[-1]))\n",
    "         \n",
    "        # At the end of every epoch, increment the epoch counter and decay\n",
    "        # the learning rate.\n",
    "        epoch_end = (t + 1) % iterations_per_epoch == 0\n",
    "        if epoch_end:\n",
    "            epoch += 1\n",
    "            learning_rate *= lr_decay\n",
    "        \n",
    "        # Check train and val accuracy on the first iteration, the last\n",
    "        # iteration, and at the end of each epoch.\n",
    "        first_it = (t == 0)\n",
    "        last_it = (t == num_iterations - 1)\n",
    "        if first_it or last_it or epoch_end:\n",
    "            train_acc = testNetwork(model, data['X_train'], data['y_train'],\n",
    "                num_samples= num_train_samples)\n",
    "            val_acc = testNetwork(model, data['X_val'], data['y_val'],\n",
    "                num_samples=num_val_samples)\n",
    "            train_acc_history.append(train_acc)\n",
    "            val_acc_history.append(val_acc)\n",
    "\n",
    "            if verbose:\n",
    "                print('(Epoch %d / %d) train acc: %f; val_acc: %f' % (\n",
    "                       epoch, num_epochs, train_acc, val_acc))\n",
    "\n",
    "            # Keep track of the best model\n",
    "            if val_acc > best_val_acc:\n",
    "                best_val_acc = val_acc\n",
    "                best_params = {}\n",
    "                for k, v in model.params.items():\n",
    "                    best_params[k] = v.copy()\n",
    "        \n",
    "    model.params = best_params\n",
    "        \n",
    "    return model, train_acc_history, val_acc_history\n",
    "        \n",
    "\n",
    "# load data\n",
    "data = load_cifar10() \n",
    "train_data = { k: data[k] for k in ['X_train', 'y_train', \n",
    "                                    'X_val', 'y_val']}\n",
    "\n",
    "# initialize model\n",
    "model_SGD = SoftmaxClassifier(hidden_dim = 300, weight_scale=1e-2)\n",
    "\n",
    "#######################################################################\n",
    "# TODO: Set up model hyperparameters for SGD                          #\n",
    "#######################################################################\n",
    "\n",
    "# set the hyperparameter\n",
    "learning_rate_SGD = 1e-3\n",
    "lr_decay_SGD = 0.9\n",
    "batch_size_SGD = 16\n",
    "\n",
    "# start training using SGD\n",
    "model_SGD, train_acc_history_SGD, val_acc_history_SGD = trainNetwork(\n",
    "    model_SGD, train_data, \n",
    "    learning_rate = learning_rate_SGD,\n",
    "    lr_decay=lr_decay_SGD, \n",
    "    batch_size=batch_size_SGD,\n",
    "    num_epochs=10, \n",
    "    print_every=1000, optimizer = 'SGD')\n",
    "#######################################################################\n",
    "#                         END OF YOUR CODE                            #\n",
    "#######################################################################\n"
   ]
  },
  {
   "cell_type": "markdown",
   "metadata": {
    "id": "e2ilTVXIw_7q"
   },
   "source": [
    "# 4.2(d) Training with SGD_Momentum\n",
    "\n",
    "The model above was trained using SGD. Now implement the SGD with momentum"
   ]
  },
  {
   "cell_type": "code",
   "execution_count": 197,
   "metadata": {
    "id": "54jGVPZOXtV6"
   },
   "outputs": [
    {
     "name": "stdout",
     "output_type": "stream",
     "text": [
      "(Iteration 1 / 25000) loss: 2.292618\n",
      "(Epoch 0 / 10) train acc: 0.081000; val_acc: 0.093300\n",
      "(Iteration 1001 / 25000) loss: 1.900433\n",
      "(Iteration 2001 / 25000) loss: 1.691958\n",
      "(Epoch 1 / 10) train acc: 0.389000; val_acc: 0.379900\n",
      "(Iteration 3001 / 25000) loss: 2.063060\n",
      "(Iteration 4001 / 25000) loss: 1.609582\n",
      "(Epoch 2 / 10) train acc: 0.448000; val_acc: 0.416900\n",
      "(Iteration 5001 / 25000) loss: 1.441299\n",
      "(Iteration 6001 / 25000) loss: 2.458209\n",
      "(Iteration 7001 / 25000) loss: 1.827469\n",
      "(Epoch 3 / 10) train acc: 0.475000; val_acc: 0.436100\n",
      "(Iteration 8001 / 25000) loss: 1.967341\n",
      "(Iteration 9001 / 25000) loss: 1.189027\n",
      "(Epoch 4 / 10) train acc: 0.496000; val_acc: 0.454100\n",
      "(Iteration 10001 / 25000) loss: 1.191937\n",
      "(Iteration 11001 / 25000) loss: 1.776392\n",
      "(Iteration 12001 / 25000) loss: 1.480691\n",
      "(Epoch 5 / 10) train acc: 0.484000; val_acc: 0.464600\n",
      "(Iteration 13001 / 25000) loss: 1.609945\n",
      "(Iteration 14001 / 25000) loss: 1.138711\n",
      "(Epoch 6 / 10) train acc: 0.502000; val_acc: 0.470300\n",
      "(Iteration 15001 / 25000) loss: 1.435983\n",
      "(Iteration 16001 / 25000) loss: 1.371153\n",
      "(Iteration 17001 / 25000) loss: 1.186552\n",
      "(Epoch 7 / 10) train acc: 0.542000; val_acc: 0.477600\n",
      "(Iteration 18001 / 25000) loss: 1.290375\n",
      "(Iteration 19001 / 25000) loss: 1.215643\n",
      "(Epoch 8 / 10) train acc: 0.517000; val_acc: 0.483400\n",
      "(Iteration 20001 / 25000) loss: 1.353611\n",
      "(Iteration 21001 / 25000) loss: 1.073605\n",
      "(Iteration 22001 / 25000) loss: 1.457658\n",
      "(Epoch 9 / 10) train acc: 0.534000; val_acc: 0.488300\n",
      "(Iteration 23001 / 25000) loss: 1.391999\n",
      "(Iteration 24001 / 25000) loss: 1.825682\n",
      "(Epoch 10 / 10) train acc: 0.532000; val_acc: 0.491200\n"
     ]
    }
   ],
   "source": [
    "def SGD_Momentum(W, dW, velocity, beta=0.5, learning_rate=1e-3):\n",
    "    \"\"\" Apply a gradient descent with momentum update on weight W\n",
    "    Inputs:\n",
    "        W : Weight matrix\n",
    "        dW : gradient of weight, same shape as W\n",
    "        velocity : velocity matrix, same shape as W\n",
    "        beta : scalar value in range [0,1] weighting the velocity matrix. Setting it to 0 should make SGD_Momentum same as SGD. \n",
    "               Defaults to 0.5.\n",
    "        learning_rate : Learning rate. Defaults to 1e-3.\n",
    "    Returns:\n",
    "        new_W: Updated weight matrix\n",
    "        new_velocity: Updated velocity matrix\n",
    "    \"\"\"\n",
    "    #######################################################################\n",
    "    # TODO: Apply a gradient descent step on weight W using the gradient dW and the specified learning rate.\n",
    "    # 1. Calculate the new velocity by using the velocity of last iteration (input velocity) and gradient\n",
    "    # 2. Update the weights using the new_velocity\n",
    "    #######################################################################\n",
    "    new_velocity = beta*velocity + learning_rate*dW\n",
    "    new_W = W - new_velocity\n",
    "    \n",
    "\n",
    "\n",
    "    #######################################################################\n",
    "    #                         END OF YOUR CODE                            #\n",
    "    #######################################################################\n",
    "    return new_W, new_velocity\n",
    "\n",
    "# initialize model\n",
    "model_SGD_Momentum = SoftmaxClassifier(hidden_dim = 300, weight_scale=1e-2)\n",
    "\n",
    "# start training \n",
    "#Using SGD_Momentum as optimizer for trainning for training\n",
    "model_SGD_Momentum, train_acc_history_SGD_Momentum, val_acc_history_SGD_Momentum = trainNetwork(\n",
    "    model_SGD_Momentum, train_data, \n",
    "    learning_rate = learning_rate_SGD,\n",
    "    lr_decay=lr_decay_SGD, \n",
    "    batch_size=batch_size_SGD,\n",
    "    num_epochs=10, \n",
    "    print_every=1000, optimizer = 'SGD_Momentum')"
   ]
  },
  {
   "cell_type": "markdown",
   "metadata": {
    "id": "fcovGmpXvXXa"
   },
   "source": [
    "# 4.2(e) Report Accuracy\n",
    "\n",
    "Run the given code and report the accuracy of model_SGD and model_SGD_Momentum on test set.\n"
   ]
  },
  {
   "cell_type": "code",
   "execution_count": 198,
   "metadata": {
    "colab": {
     "background_save": true
    },
    "id": "FwCq8pBhu6dz"
   },
   "outputs": [
    {
     "name": "stdout",
     "output_type": "stream",
     "text": [
      "Test accuracy of model_SGD: 0.4585\n",
      "Test accuracy of model_SGD_Momentum: 0.4973\n"
     ]
    }
   ],
   "source": [
    "# report test accuracy\n",
    "acc = testNetwork(model_SGD, data['X_test'], data['y_test'])\n",
    "print(\"Test accuracy of model_SGD: {}\".format(acc))\n",
    "# report test accuracy\n",
    "acc = testNetwork(model_SGD_Momentum, data['X_test'], data['y_test'])\n",
    "print(\"Test accuracy of model_SGD_Momentum: {}\".format(acc))"
   ]
  },
  {
   "cell_type": "markdown",
   "metadata": {
    "id": "oTrmbULS7i2N"
   },
   "source": [
    "# 4.2(f) Plot\n",
    "\n",
    "Using the train_acc_history and val_acc_history, plot the train & val accuracy versus epochs on one plot, using SGD and SGD_Momentum as optimizer. "
   ]
  },
  {
   "cell_type": "code",
   "execution_count": 199,
   "metadata": {
    "id": "SPjtnbya9S7g"
   },
   "outputs": [
    {
     "data": {
      "image/png": "[encoded data removed]",
      "text/plain": [
       "<Figure size 432x288 with 1 Axes>"
      ]
     },
     "metadata": {
      "needs_background": "light"
     },
     "output_type": "display_data"
    },
    {
     "data": {
      "image/png": "[encoded data removed]",
      "text/plain": [
       "<Figure size 432x288 with 1 Axes>"
      ]
     },
     "metadata": {
      "needs_background": "light"
     },
     "output_type": "display_data"
    }
   ],
   "source": [
    "#######################################################################\n",
    "# Your Code here\n",
    "#######################################################################\n",
    "\n",
    "plt.plot(train_acc_history_SGD, label='training')\n",
    "plt.plot(val_acc_history_SGD, label='validation')\n",
    "plt.title('SGD Accuracy')\n",
    "plt.xlabel('Epochs')\n",
    "plt.ylabel('Accuracy')\n",
    "plt.legend()\n",
    "plt.show()\n",
    "\n",
    "plt.plot(train_acc_history_SGD_Momentum, label='training')\n",
    "plt.plot(val_acc_history_SGD_Momentum, label='validation')\n",
    "plt.title('SGD Momentum Accuracy')\n",
    "plt.xlabel('Epochs')\n",
    "plt.ylabel('Accuracy')\n",
    "plt.legend()\n",
    "plt.show()\n",
    "#######################################################################\n",
    "#                         END OF YOUR CODE                            #\n",
    "#######################################################################"
   ]
  },
  {
   "cell_type": "markdown",
   "metadata": {
    "id": "GVcoULZa5seR"
   },
   "source": [
    "Report your obervation here:"
   ]
  },
  {
   "cell_type": "markdown",
   "metadata": {
    "id": "qxOkNE5IE76I"
   },
   "source": [
    "# 4.2(g) Adding L2 regularization (EECS 504 Only)\n",
    "\n",
    "Add L2 regularization to the softmax classifier in 4.2(b)"
   ]
  },
  {
   "cell_type": "markdown",
   "metadata": {
    "id": "e3VuqVbKh6VB"
   },
   "source": [
    "# 4.2(h) Training with L2 regularization (EECS 504 Only)\n",
    "\n",
    "Train the model again using L2 regularization, using SGD"
   ]
  },
  {
   "cell_type": "code",
   "execution_count": 200,
   "metadata": {
    "id": "tQoj9kabUBy8"
   },
   "outputs": [
    {
     "name": "stdout",
     "output_type": "stream",
     "text": [
      "(Iteration 1 / 25000) loss: 2.302056\n",
      "(Epoch 0 / 10) train acc: 0.129000; val_acc: 0.111800\n",
      "(Iteration 1001 / 25000) loss: 2.032334\n",
      "(Iteration 2001 / 25000) loss: 1.694781\n",
      "(Epoch 1 / 10) train acc: 0.370000; val_acc: 0.344100\n",
      "(Iteration 3001 / 25000) loss: 2.000996\n",
      "(Iteration 4001 / 25000) loss: 2.035500\n",
      "(Epoch 2 / 10) train acc: 0.382000; val_acc: 0.376300\n",
      "(Iteration 5001 / 25000) loss: 1.755034\n",
      "(Iteration 6001 / 25000) loss: 1.821312\n",
      "(Iteration 7001 / 25000) loss: 1.913979\n",
      "(Epoch 3 / 10) train acc: 0.396000; val_acc: 0.400600\n",
      "(Iteration 8001 / 25000) loss: 1.572111\n",
      "(Iteration 9001 / 25000) loss: 1.660214\n",
      "(Epoch 4 / 10) train acc: 0.435000; val_acc: 0.417700\n",
      "(Iteration 10001 / 25000) loss: 1.283392\n",
      "(Iteration 11001 / 25000) loss: 1.279843\n",
      "(Iteration 12001 / 25000) loss: 1.689852\n",
      "(Epoch 5 / 10) train acc: 0.434000; val_acc: 0.427200\n",
      "(Iteration 13001 / 25000) loss: 1.460471\n",
      "(Iteration 14001 / 25000) loss: 1.629298\n",
      "(Epoch 6 / 10) train acc: 0.430000; val_acc: 0.434900\n",
      "(Iteration 15001 / 25000) loss: 1.260379\n",
      "(Iteration 16001 / 25000) loss: 1.230441\n",
      "(Iteration 17001 / 25000) loss: 1.687735\n",
      "(Epoch 7 / 10) train acc: 0.476000; val_acc: 0.441700\n",
      "(Iteration 18001 / 25000) loss: 1.755300\n",
      "(Iteration 19001 / 25000) loss: 1.434907\n",
      "(Epoch 8 / 10) train acc: 0.455000; val_acc: 0.445600\n",
      "(Iteration 20001 / 25000) loss: 1.503139\n",
      "(Iteration 21001 / 25000) loss: 1.067568\n",
      "(Iteration 22001 / 25000) loss: 1.072492\n",
      "(Epoch 9 / 10) train acc: 0.473000; val_acc: 0.452500\n",
      "(Iteration 23001 / 25000) loss: 1.897846\n",
      "(Iteration 24001 / 25000) loss: 1.308194\n",
      "(Epoch 10 / 10) train acc: 0.518000; val_acc: 0.455500\n"
     ]
    }
   ],
   "source": [
    "# initialize model (remember to set the l2 regularization weight > 0)\n",
    "model_SGD_L2 = SoftmaxClassifier(hidden_dim = 300, weight_scale=1e-2, reg=0.01)\n",
    "\n",
    "# start training using SGD. The training hyperparameter you choose should be same to the 4.2(c)\n",
    "model_SGD_L2, train_acc_history_SGD_L2, val_acc_history_SGD_L2 = trainNetwork(\n",
    "    model_SGD_L2, train_data, \n",
    "    learning_rate = learning_rate_SGD,\n",
    "    lr_decay=lr_decay_SGD, \n",
    "    batch_size=batch_size_SGD,\n",
    "    num_epochs=10, \n",
    "    print_every=1000, optimizer = 'SGD')"
   ]
  },
  {
   "cell_type": "code",
   "execution_count": 201,
   "metadata": {
    "id": "R5yYAg3mWFX5"
   },
   "outputs": [
    {
     "name": "stdout",
     "output_type": "stream",
     "text": [
      "Test accuracy of model_SGD_L2: 0.4648\n"
     ]
    }
   ],
   "source": [
    "# report test accuracy\n",
    "acc = testNetwork(model_SGD_L2, data['X_test'], data['y_test'])\n",
    "print(\"Test accuracy of model_SGD_L2: {}\".format(acc))"
   ]
  },
  {
   "cell_type": "markdown",
   "metadata": {
    "id": "9AuWH2_Aj2Ac"
   },
   "source": [
    "# 4.2(i) Plot\n",
    "\n",
    "Using the train_acc_history and val_acc_history, plot the train & val accuracy versus epochs on one plot for model with and without L2 regularization, using SGD as optimizer. "
   ]
  },
  {
   "cell_type": "code",
   "execution_count": 202,
   "metadata": {
    "id": "eG7H8nXCgudY"
   },
   "outputs": [
    {
     "data": {
      "image/png": "[encoded data removed]",
      "text/plain": [
       "<Figure size 432x288 with 1 Axes>"
      ]
     },
     "metadata": {
      "needs_background": "light"
     },
     "output_type": "display_data"
    }
   ],
   "source": [
    "#######################################################################\n",
    "# TODO: Your Code here\n",
    "#######################################################################\n",
    "plt.plot(train_acc_history_SGD_L2, label='training')\n",
    "plt.plot(val_acc_history_SGD_L2, label='validation')\n",
    "plt.title('SGD Accuracy')\n",
    "plt.xlabel('Epochs')\n",
    "plt.ylabel('Accuracy')\n",
    "plt.legend()\n",
    "plt.show()\n",
    "#######################################################################\n",
    "#                         END OF YOUR CODE                            #\n",
    "#######################################################################"
   ]
  },
  {
   "cell_type": "markdown",
   "metadata": {
    "id": "MbrfhTzdlyRz"
   },
   "source": [
    "# 4.2(j) Tune your own model\n",
    "\n",
    "Feel free to tune any hyperparameters and choose any optimizer as you want -- just train the best model you can!"
   ]
  },
  {
   "cell_type": "code",
   "execution_count": 203,
   "metadata": {
    "id": "SrjE2jyKmY-9"
   },
   "outputs": [
    {
     "name": "stdout",
     "output_type": "stream",
     "text": [
      "(Iteration 1 / 50000) loss: 2.285836\n",
      "(Epoch 0 / 20) train acc: 0.140000; val_acc: 0.131200\n",
      "(Iteration 1001 / 50000) loss: 1.692356\n",
      "(Iteration 2001 / 50000) loss: 1.717788\n",
      "(Epoch 1 / 20) train acc: 0.405000; val_acc: 0.377800\n",
      "(Iteration 3001 / 50000) loss: 1.482898\n",
      "(Iteration 4001 / 50000) loss: 1.256890\n",
      "(Epoch 2 / 20) train acc: 0.426000; val_acc: 0.422100\n",
      "(Iteration 5001 / 50000) loss: 1.913611\n",
      "(Iteration 6001 / 50000) loss: 1.828768\n",
      "(Iteration 7001 / 50000) loss: 1.425368\n",
      "(Epoch 3 / 20) train acc: 0.497000; val_acc: 0.441900\n",
      "(Iteration 8001 / 50000) loss: 1.116475\n",
      "(Iteration 9001 / 50000) loss: 1.329572\n",
      "(Epoch 4 / 20) train acc: 0.492000; val_acc: 0.457400\n",
      "(Iteration 10001 / 50000) loss: 1.564591\n",
      "(Iteration 11001 / 50000) loss: 1.405186\n",
      "(Iteration 12001 / 50000) loss: 1.738024\n",
      "(Epoch 5 / 20) train acc: 0.512000; val_acc: 0.468700\n",
      "(Iteration 13001 / 50000) loss: 1.493571\n",
      "(Iteration 14001 / 50000) loss: 1.032437\n",
      "(Epoch 6 / 20) train acc: 0.522000; val_acc: 0.477300\n",
      "(Iteration 15001 / 50000) loss: 1.178130\n",
      "(Iteration 16001 / 50000) loss: 1.395846\n",
      "(Iteration 17001 / 50000) loss: 1.098091\n",
      "(Epoch 7 / 20) train acc: 0.520000; val_acc: 0.483900\n",
      "(Iteration 18001 / 50000) loss: 1.143717\n",
      "(Iteration 19001 / 50000) loss: 1.294971\n",
      "(Epoch 8 / 20) train acc: 0.543000; val_acc: 0.488000\n",
      "(Iteration 20001 / 50000) loss: 1.058635\n",
      "(Iteration 21001 / 50000) loss: 1.060776\n",
      "(Iteration 22001 / 50000) loss: 1.454113\n",
      "(Epoch 9 / 20) train acc: 0.537000; val_acc: 0.495500\n",
      "(Iteration 23001 / 50000) loss: 1.164303\n",
      "(Iteration 24001 / 50000) loss: 1.394336\n",
      "(Epoch 10 / 20) train acc: 0.543000; val_acc: 0.496200\n",
      "(Iteration 25001 / 50000) loss: 1.353889\n",
      "(Iteration 26001 / 50000) loss: 0.877718\n",
      "(Iteration 27001 / 50000) loss: 1.006404\n",
      "(Epoch 11 / 20) train acc: 0.605000; val_acc: 0.498900\n",
      "(Iteration 28001 / 50000) loss: 1.433386\n",
      "(Iteration 29001 / 50000) loss: 1.809309\n",
      "(Epoch 12 / 20) train acc: 0.558000; val_acc: 0.501500\n",
      "(Iteration 30001 / 50000) loss: 1.092809\n",
      "(Iteration 31001 / 50000) loss: 0.963861\n",
      "(Iteration 32001 / 50000) loss: 1.464629\n",
      "(Epoch 13 / 20) train acc: 0.574000; val_acc: 0.502200\n",
      "(Iteration 33001 / 50000) loss: 1.143395\n",
      "(Iteration 34001 / 50000) loss: 1.062914\n",
      "(Epoch 14 / 20) train acc: 0.586000; val_acc: 0.505900\n",
      "(Iteration 35001 / 50000) loss: 1.380557\n",
      "(Iteration 36001 / 50000) loss: 1.180371\n",
      "(Iteration 37001 / 50000) loss: 1.217352\n",
      "(Epoch 15 / 20) train acc: 0.545000; val_acc: 0.503000\n",
      "(Iteration 38001 / 50000) loss: 1.525390\n",
      "(Iteration 39001 / 50000) loss: 1.279228\n",
      "(Epoch 16 / 20) train acc: 0.606000; val_acc: 0.507500\n",
      "(Iteration 40001 / 50000) loss: 1.560260\n",
      "(Iteration 41001 / 50000) loss: 0.633237\n",
      "(Iteration 42001 / 50000) loss: 1.119924\n",
      "(Epoch 17 / 20) train acc: 0.593000; val_acc: 0.509100\n",
      "(Iteration 43001 / 50000) loss: 1.125946\n",
      "(Iteration 44001 / 50000) loss: 1.434331\n",
      "(Epoch 18 / 20) train acc: 0.601000; val_acc: 0.511000\n",
      "(Iteration 45001 / 50000) loss: 1.339493\n",
      "(Iteration 46001 / 50000) loss: 1.495159\n",
      "(Iteration 47001 / 50000) loss: 1.390175\n",
      "(Epoch 19 / 20) train acc: 0.597000; val_acc: 0.515100\n",
      "(Iteration 48001 / 50000) loss: 1.516789\n",
      "(Iteration 49001 / 50000) loss: 1.195281\n",
      "(Epoch 20 / 20) train acc: 0.623000; val_acc: 0.514100\n"
     ]
    }
   ],
   "source": [
    "#######################################################################\n",
    "# TODO: Train your own model                                          #\n",
    "#######################################################################\n",
    "\n",
    "# initialize model (set reg=0.0 for EECS 442 students)\n",
    "your_model = SoftmaxClassifier(hidden_dim = 300, weight_scale=1e-2,  reg= 0.01)\n",
    "\n",
    "# train your moodel\n",
    "your_model, train_acc_history_your_model, val_acc_history_your_model = trainNetwork(\n",
    "    your_model, train_data, \n",
    "    learning_rate = 1e-3 ,\n",
    "    lr_decay=  0.9 , \n",
    "    batch_size= 16 ,\n",
    "    num_epochs= 20 , \n",
    "    print_every=1000, optimizer = 'SGD_Momentum')\n",
    "#######################################################################\n",
    "#                         END OF YOUR CODE                            #\n",
    "#######################################################################"
   ]
  },
  {
   "cell_type": "code",
   "execution_count": 204,
   "metadata": {
    "id": "vI4SK0PPmbrE"
   },
   "outputs": [
    {
     "name": "stdout",
     "output_type": "stream",
     "text": [
      "Test accuracy of your model: 0.511\n"
     ]
    }
   ],
   "source": [
    "# report test accuracy \n",
    "# (Run this code only once when you obtain the highest model in validation set!)\n",
    "acc = testNetwork(your_model, data['X_test'], data['y_test'])\n",
    "print(\"Test accuracy of your model: {}\".format(acc))"
   ]
  },
  {
   "cell_type": "code",
   "execution_count": null,
   "metadata": {},
   "outputs": [],
   "source": []
  }
 ],
 "metadata": {
  "accelerator": "GPU",
  "colab": {
   "collapsed_sections": [],
   "provenance": []
  },
  "kernelspec": {
   "display_name": "Python 3 (ipykernel)",
   "language": "python",
   "name": "python3"
  },
  "language_info": {
   "codemirror_mode": {
    "name": "ipython",
    "version": 3
   },
   "file_extension": ".py",
   "mimetype": "text/x-python",
   "name": "python",
   "nbconvert_exporter": "python",
   "pygments_lexer": "ipython3",
   "version": "3.10.7"
  }
 },
 "nbformat": 4,
 "nbformat_minor": 4
}
